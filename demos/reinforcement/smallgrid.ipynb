{
 "cells": [
  {
   "cell_type": "code",
   "execution_count": null,
   "metadata": {},
   "outputs": [],
   "source": [
    "import numpy as np\n",
    "size = 4\n",
    "reward = -1\n",
    "action_prob = 0.25\n",
    "\n",
    "v = np.zeros((size, size))\n",
    "\n",
    "action_index = np.zeros((size, size, 4, 2), dtype=int)\n",
    "\n",
    "dire = [(1,0), (-1, 0), (0,1), (0, -1)]\n",
    "\n",
    "def get_next(i, j, dire):\n",
    "    next_i, next_j = i + dire[0], j + dire[1]\n",
    "    if next_i < 0 or next_i >= size or next_j < 0 or next_j >= size:\n",
    "        return i,j\n",
    "    return next_i, next_j\n",
    "\n",
    "for i in range(size):\n",
    "    for j in range(size):\n",
    "        for k, di in enumerate(dire):\n",
    "            next_i, next_j = get_next(i, j, di)\n",
    "            action_index[i][j][k][0] = next_i\n",
    "            action_index[i][j][k][1] = next_j"
   ]
  },
  {
   "cell_type": "code",
   "execution_count": null,
   "metadata": {},
   "outputs": [],
   "source": [
    "# Policy Evaluation`\n",
    "while True:\n",
    "    cur_v = v.copy()\n",
    "    v = reward + action_prob * v[action_index[:,:,:,0], action_index[:,:,:,1]].sum(axis=-1)\n",
    "    v[-1][-1] = 0\n",
    "#     v[0][0] = 0\n",
    "    if np.abs(cur_v - v).max() < 1e-4:\n",
    "        break"
   ]
  }
 ],
 "metadata": {
  "language_info": {
   "name": "python"
  },
  "orig_nbformat": 4
 },
 "nbformat": 4,
 "nbformat_minor": 2
}
